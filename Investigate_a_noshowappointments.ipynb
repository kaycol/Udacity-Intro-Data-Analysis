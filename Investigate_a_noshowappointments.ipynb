{
 "cells": [
  {
   "cell_type": "markdown",
   "metadata": {},
   "source": [
    "\n",
    "# Project: noshowappointments data analysis\n",
    "\n",
    "## Table of Contents\n",
    "<ul>\n",
    "<li><a href=\"#intro\">Introduction</a></li>\n",
    "<li><a href=\"#wrangling\">Data Wrangling</a></li>\n",
    "<li><a href=\"#eda\">Exploratory Data Analysis</a></li>\n",
    "<li><a href=\"#conclusions\">Conclusions</a></li>\n",
    "</ul>"
   ]
  },
  {
   "cell_type": "markdown",
   "metadata": {},
   "source": [
    "<a id='intro'></a>\n",
    "## Introduction\n",
    "\n",
    "### Dataset Description \n",
    "\n",
    "This dataset collects information from 100k medical appointments in Brazil and is focused on the question of whether or not patients show up for their appointment. A number of characteristics about the patient are included in each row.\n",
    "\n",
    "‘ScheduledDay’ tells us on what day the patient set up their appointment.\n",
    "‘Neighborhood’ indicates the location of the hospital.\n",
    "‘Scholarship’ indicates whether or not the patient is enrolled in Brasilian welfare program Bolsa Família.\n",
    "Be careful about the encoding of the last column: it says ‘No’ if the patient showed up to their appointment, and ‘Yes’ if they did not show up.\n",
    "\n",
    "### Question(s) for Analysis\n",
    "1. What does age affect honouring appointments?\n",
    "2. How does gender and receiving SMS affect the turn out?\n",
    "3. How does  gender and  Age affect honouring appointments  affect turn out?"
   ]
  },
  {
   "cell_type": "code",
   "execution_count": 53,
   "metadata": {},
   "outputs": [],
   "source": [
    "#importing packages \n",
    "import pandas as pd\n",
    "import matplotlib.pyplot as plt\n",
    "import seaborn as sns\n",
    "%matplotlib inline\n"
   ]
  },
  {
   "cell_type": "markdown",
   "metadata": {},
   "source": [
    "Reading dataset from CSV file to upload it to the notebook"
   ]
  },
  {
   "cell_type": "code",
   "execution_count": 6,
   "metadata": {},
   "outputs": [],
   "source": [
    "#Reading dataset from CSV file\n",
    "df=pd.read_csv('noshowappointments.csv')\n"
   ]
  },
  {
   "cell_type": "markdown",
   "metadata": {},
   "source": [
    "After loading the dataset let us asess the data content and distributrion in the dataset."
   ]
  },
  {
   "cell_type": "code",
   "execution_count": 11,
   "metadata": {},
   "outputs": [
    {
     "name": "stdout",
     "output_type": "stream",
     "text": [
      "<class 'pandas.core.frame.DataFrame'>\n",
      "RangeIndex: 39596 entries, 0 to 39595\n",
      "Data columns (total 14 columns):\n",
      " #   Column          Non-Null Count  Dtype  \n",
      "---  ------          --------------  -----  \n",
      " 0   PatientId       39596 non-null  float64\n",
      " 1   AppointmentID   39596 non-null  int64  \n",
      " 2   Gender          39596 non-null  object \n",
      " 3   ScheduledDay    39596 non-null  object \n",
      " 4   AppointmentDay  39596 non-null  object \n",
      " 5   Age             39596 non-null  float64\n",
      " 6   Neighbourhood   39596 non-null  object \n",
      " 7   Scholarship     39596 non-null  int64  \n",
      " 8   Hipertension    39596 non-null  int64  \n",
      " 9   Diabetes        39596 non-null  int64  \n",
      " 10  Alcoholism      39596 non-null  int64  \n",
      " 11  Handcap         39596 non-null  int64  \n",
      " 12  SMS_received    39596 non-null  int64  \n",
      " 13  No_show         39596 non-null  object \n",
      "dtypes: float64(2), int64(7), object(5)\n",
      "memory usage: 4.2+ MB\n"
     ]
    }
   ],
   "source": [
    "#Summary of the data and dtypes and try figure out if it is in order\n",
    "df.info()"
   ]
  },
  {
   "cell_type": "markdown",
   "metadata": {},
   "source": [
    "The data does not contain any null value meaninng it is complete and does not require impute or drop significant rows that are not complete. The only problem that can be corrected is the data type of two fieds(ScheduledDay and AppointmentDay) cannot sit well in string thus need to be changed to day time to make sense to the data."
   ]
  },
  {
   "cell_type": "markdown",
   "metadata": {},
   "source": [
    "Assessing the content of the data both head and tail of the dataset."
   ]
  },
  {
   "cell_type": "code",
   "execution_count": 12,
   "metadata": {},
   "outputs": [
    {
     "data": {
      "text/html": [
       "<div>\n",
       "<style scoped>\n",
       "    .dataframe tbody tr th:only-of-type {\n",
       "        vertical-align: middle;\n",
       "    }\n",
       "\n",
       "    .dataframe tbody tr th {\n",
       "        vertical-align: top;\n",
       "    }\n",
       "\n",
       "    .dataframe thead th {\n",
       "        text-align: right;\n",
       "    }\n",
       "</style>\n",
       "<table border=\"1\" class=\"dataframe\">\n",
       "  <thead>\n",
       "    <tr style=\"text-align: right;\">\n",
       "      <th></th>\n",
       "      <th>PatientId</th>\n",
       "      <th>AppointmentID</th>\n",
       "      <th>Gender</th>\n",
       "      <th>ScheduledDay</th>\n",
       "      <th>AppointmentDay</th>\n",
       "      <th>Age</th>\n",
       "      <th>Neighbourhood</th>\n",
       "      <th>Scholarship</th>\n",
       "      <th>Hipertension</th>\n",
       "      <th>Diabetes</th>\n",
       "      <th>Alcoholism</th>\n",
       "      <th>Handcap</th>\n",
       "      <th>SMS_received</th>\n",
       "      <th>No_show</th>\n",
       "    </tr>\n",
       "  </thead>\n",
       "  <tbody>\n",
       "    <tr>\n",
       "      <th>0</th>\n",
       "      <td>2.987250e+13</td>\n",
       "      <td>5642903</td>\n",
       "      <td>F</td>\n",
       "      <td>2016-04-29 18:38:08</td>\n",
       "      <td>2016-04-29</td>\n",
       "      <td>62.0</td>\n",
       "      <td>JARDIM DA PENHA</td>\n",
       "      <td>0</td>\n",
       "      <td>1</td>\n",
       "      <td>0</td>\n",
       "      <td>0</td>\n",
       "      <td>0</td>\n",
       "      <td>0</td>\n",
       "      <td>No</td>\n",
       "    </tr>\n",
       "    <tr>\n",
       "      <th>1</th>\n",
       "      <td>5.589978e+14</td>\n",
       "      <td>5642503</td>\n",
       "      <td>M</td>\n",
       "      <td>2016-04-29 16:08:27</td>\n",
       "      <td>2016-04-29</td>\n",
       "      <td>56.0</td>\n",
       "      <td>JARDIM DA PENHA</td>\n",
       "      <td>0</td>\n",
       "      <td>0</td>\n",
       "      <td>0</td>\n",
       "      <td>0</td>\n",
       "      <td>0</td>\n",
       "      <td>0</td>\n",
       "      <td>No</td>\n",
       "    </tr>\n",
       "    <tr>\n",
       "      <th>2</th>\n",
       "      <td>4.262962e+12</td>\n",
       "      <td>5642549</td>\n",
       "      <td>F</td>\n",
       "      <td>2016-04-29 16:19:04</td>\n",
       "      <td>2016-04-29</td>\n",
       "      <td>62.0</td>\n",
       "      <td>MATA DA PRAIA</td>\n",
       "      <td>0</td>\n",
       "      <td>0</td>\n",
       "      <td>0</td>\n",
       "      <td>0</td>\n",
       "      <td>0</td>\n",
       "      <td>0</td>\n",
       "      <td>No</td>\n",
       "    </tr>\n",
       "    <tr>\n",
       "      <th>3</th>\n",
       "      <td>8.679512e+11</td>\n",
       "      <td>5642828</td>\n",
       "      <td>F</td>\n",
       "      <td>2016-04-29 17:29:31</td>\n",
       "      <td>2016-04-29</td>\n",
       "      <td>8.0</td>\n",
       "      <td>PONTAL DE CAMBURI</td>\n",
       "      <td>0</td>\n",
       "      <td>0</td>\n",
       "      <td>0</td>\n",
       "      <td>0</td>\n",
       "      <td>0</td>\n",
       "      <td>0</td>\n",
       "      <td>No</td>\n",
       "    </tr>\n",
       "    <tr>\n",
       "      <th>4</th>\n",
       "      <td>8.841186e+12</td>\n",
       "      <td>5642494</td>\n",
       "      <td>F</td>\n",
       "      <td>2016-04-29 16:07:23</td>\n",
       "      <td>2016-04-29</td>\n",
       "      <td>56.0</td>\n",
       "      <td>JARDIM DA PENHA</td>\n",
       "      <td>0</td>\n",
       "      <td>1</td>\n",
       "      <td>1</td>\n",
       "      <td>0</td>\n",
       "      <td>0</td>\n",
       "      <td>0</td>\n",
       "      <td>No</td>\n",
       "    </tr>\n",
       "  </tbody>\n",
       "</table>\n",
       "</div>"
      ],
      "text/plain": [
       "      PatientId  AppointmentID Gender         ScheduledDay AppointmentDay  \\\n",
       "0  2.987250e+13        5642903      F  2016-04-29 18:38:08     2016-04-29   \n",
       "1  5.589978e+14        5642503      M  2016-04-29 16:08:27     2016-04-29   \n",
       "2  4.262962e+12        5642549      F  2016-04-29 16:19:04     2016-04-29   \n",
       "3  8.679512e+11        5642828      F  2016-04-29 17:29:31     2016-04-29   \n",
       "4  8.841186e+12        5642494      F  2016-04-29 16:07:23     2016-04-29   \n",
       "\n",
       "    Age      Neighbourhood  Scholarship  Hipertension  Diabetes  Alcoholism  \\\n",
       "0  62.0    JARDIM DA PENHA            0             1         0           0   \n",
       "1  56.0    JARDIM DA PENHA            0             0         0           0   \n",
       "2  62.0      MATA DA PRAIA            0             0         0           0   \n",
       "3   8.0  PONTAL DE CAMBURI            0             0         0           0   \n",
       "4  56.0    JARDIM DA PENHA            0             1         1           0   \n",
       "\n",
       "   Handcap  SMS_received No_show  \n",
       "0        0             0      No  \n",
       "1        0             0      No  \n",
       "2        0             0      No  \n",
       "3        0             0      No  \n",
       "4        0             0      No  "
      ]
     },
     "execution_count": 12,
     "metadata": {},
     "output_type": "execute_result"
    }
   ],
   "source": [
    "#list first rows of data in the dataset\n",
    "df.head()"
   ]
  },
  {
   "cell_type": "code",
   "execution_count": 6,
   "metadata": {},
   "outputs": [
    {
     "data": {
      "text/html": [
       "<div>\n",
       "<style scoped>\n",
       "    .dataframe tbody tr th:only-of-type {\n",
       "        vertical-align: middle;\n",
       "    }\n",
       "\n",
       "    .dataframe tbody tr th {\n",
       "        vertical-align: top;\n",
       "    }\n",
       "\n",
       "    .dataframe thead th {\n",
       "        text-align: right;\n",
       "    }\n",
       "</style>\n",
       "<table border=\"1\" class=\"dataframe\">\n",
       "  <thead>\n",
       "    <tr style=\"text-align: right;\">\n",
       "      <th></th>\n",
       "      <th>PatientId</th>\n",
       "      <th>AppointmentID</th>\n",
       "      <th>Gender</th>\n",
       "      <th>ScheduledDay</th>\n",
       "      <th>AppointmentDay</th>\n",
       "      <th>Age</th>\n",
       "      <th>Neighbourhood</th>\n",
       "      <th>Scholarship</th>\n",
       "      <th>Hipertension</th>\n",
       "      <th>Diabetes</th>\n",
       "      <th>Alcoholism</th>\n",
       "      <th>Handcap</th>\n",
       "      <th>SMS_received</th>\n",
       "      <th>No_show</th>\n",
       "    </tr>\n",
       "  </thead>\n",
       "  <tbody>\n",
       "    <tr>\n",
       "      <th>39591</th>\n",
       "      <td>2.659419e+13</td>\n",
       "      <td>5708974</td>\n",
       "      <td>F</td>\n",
       "      <td>2016-05-17 12:36:33</td>\n",
       "      <td>2016-05-19</td>\n",
       "      <td>50.0</td>\n",
       "      <td>SANTO ANDRÉ</td>\n",
       "      <td>0</td>\n",
       "      <td>1</td>\n",
       "      <td>0</td>\n",
       "      <td>0</td>\n",
       "      <td>0</td>\n",
       "      <td>0</td>\n",
       "      <td>No</td>\n",
       "    </tr>\n",
       "    <tr>\n",
       "      <th>39592</th>\n",
       "      <td>7.275113e+12</td>\n",
       "      <td>5648773</td>\n",
       "      <td>F</td>\n",
       "      <td>2016-05-02 16:31:03</td>\n",
       "      <td>2016-05-05</td>\n",
       "      <td>70.0</td>\n",
       "      <td>SANTO ANDRÉ</td>\n",
       "      <td>0</td>\n",
       "      <td>1</td>\n",
       "      <td>1</td>\n",
       "      <td>0</td>\n",
       "      <td>0</td>\n",
       "      <td>0</td>\n",
       "      <td>No</td>\n",
       "    </tr>\n",
       "    <tr>\n",
       "      <th>39593</th>\n",
       "      <td>5.132358e+13</td>\n",
       "      <td>5681879</td>\n",
       "      <td>M</td>\n",
       "      <td>2016-05-10 15:18:51</td>\n",
       "      <td>2016-05-12</td>\n",
       "      <td>50.0</td>\n",
       "      <td>SÃO PEDRO</td>\n",
       "      <td>0</td>\n",
       "      <td>0</td>\n",
       "      <td>0</td>\n",
       "      <td>1</td>\n",
       "      <td>0</td>\n",
       "      <td>0</td>\n",
       "      <td>No</td>\n",
       "    </tr>\n",
       "    <tr>\n",
       "      <th>39594</th>\n",
       "      <td>1.532652e+13</td>\n",
       "      <td>5681880</td>\n",
       "      <td>M</td>\n",
       "      <td>2016-05-10 15:19:04</td>\n",
       "      <td>2016-05-12</td>\n",
       "      <td>31.0</td>\n",
       "      <td>CARATOÍRA</td>\n",
       "      <td>0</td>\n",
       "      <td>0</td>\n",
       "      <td>0</td>\n",
       "      <td>0</td>\n",
       "      <td>0</td>\n",
       "      <td>0</td>\n",
       "      <td>Yes</td>\n",
       "    </tr>\n",
       "    <tr>\n",
       "      <th>39595</th>\n",
       "      <td>8.655847e+11</td>\n",
       "      <td>5681876</td>\n",
       "      <td>F</td>\n",
       "      <td>2016-05-10 15:18:39</td>\n",
       "      <td>2016-05-12</td>\n",
       "      <td>20.0</td>\n",
       "      <td>ITARARÉ</td>\n",
       "      <td>0</td>\n",
       "      <td>0</td>\n",
       "      <td>0</td>\n",
       "      <td>0</td>\n",
       "      <td>0</td>\n",
       "      <td>0</td>\n",
       "      <td>Yes</td>\n",
       "    </tr>\n",
       "  </tbody>\n",
       "</table>\n",
       "</div>"
      ],
      "text/plain": [
       "          PatientId  AppointmentID Gender         ScheduledDay AppointmentDay  \\\n",
       "39591  2.659419e+13        5708974      F  2016-05-17 12:36:33     2016-05-19   \n",
       "39592  7.275113e+12        5648773      F  2016-05-02 16:31:03     2016-05-05   \n",
       "39593  5.132358e+13        5681879      M  2016-05-10 15:18:51     2016-05-12   \n",
       "39594  1.532652e+13        5681880      M  2016-05-10 15:19:04     2016-05-12   \n",
       "39595  8.655847e+11        5681876      F  2016-05-10 15:18:39     2016-05-12   \n",
       "\n",
       "        Age Neighbourhood  Scholarship  Hipertension  Diabetes  Alcoholism  \\\n",
       "39591  50.0   SANTO ANDRÉ            0             1         0           0   \n",
       "39592  70.0   SANTO ANDRÉ            0             1         1           0   \n",
       "39593  50.0     SÃO PEDRO            0             0         0           1   \n",
       "39594  31.0     CARATOÍRA            0             0         0           0   \n",
       "39595  20.0       ITARARÉ            0             0         0           0   \n",
       "\n",
       "       Handcap  SMS_received No_show  \n",
       "39591        0             0      No  \n",
       "39592        0             0      No  \n",
       "39593        0             0      No  \n",
       "39594        0             0     Yes  \n",
       "39595        0             0     Yes  "
      ]
     },
     "execution_count": 6,
     "metadata": {},
     "output_type": "execute_result"
    }
   ],
   "source": [
    "#list last rows of data in the dataset\n",
    "df.tail()"
   ]
  },
  {
   "cell_type": "code",
   "execution_count": 7,
   "metadata": {},
   "outputs": [
    {
     "data": {
      "text/plain": [
       "(39596, 14)"
      ]
     },
     "execution_count": 7,
     "metadata": {},
     "output_type": "execute_result"
    }
   ],
   "source": [
    "#Checking the number of columns present in a dataset\n",
    "df.shape\n"
   ]
  },
  {
   "cell_type": "markdown",
   "metadata": {},
   "source": [
    "Data has 110527 records(rows) each having 14 columns.  this means that 39596 patients were intented to show up for appointment in there specific day scheduled and the patient data recorded in the dataset had 14 attributes which each patient."
   ]
  },
  {
   "cell_type": "code",
   "execution_count": 9,
   "metadata": {},
   "outputs": [
    {
     "data": {
      "text/html": [
       "<div>\n",
       "<style scoped>\n",
       "    .dataframe tbody tr th:only-of-type {\n",
       "        vertical-align: middle;\n",
       "    }\n",
       "\n",
       "    .dataframe tbody tr th {\n",
       "        vertical-align: top;\n",
       "    }\n",
       "\n",
       "    .dataframe thead th {\n",
       "        text-align: right;\n",
       "    }\n",
       "</style>\n",
       "<table border=\"1\" class=\"dataframe\">\n",
       "  <thead>\n",
       "    <tr style=\"text-align: right;\">\n",
       "      <th></th>\n",
       "      <th>PatientId</th>\n",
       "      <th>AppointmentID</th>\n",
       "      <th>Age</th>\n",
       "      <th>Scholarship</th>\n",
       "      <th>Hipertension</th>\n",
       "      <th>Diabetes</th>\n",
       "      <th>Alcoholism</th>\n",
       "      <th>Handcap</th>\n",
       "      <th>SMS_received</th>\n",
       "    </tr>\n",
       "  </thead>\n",
       "  <tbody>\n",
       "    <tr>\n",
       "      <th>count</th>\n",
       "      <td>3.959600e+04</td>\n",
       "      <td>3.959600e+04</td>\n",
       "      <td>39596.000000</td>\n",
       "      <td>39596.000000</td>\n",
       "      <td>39596.000000</td>\n",
       "      <td>39596.000000</td>\n",
       "      <td>39596.000000</td>\n",
       "      <td>39596.000000</td>\n",
       "      <td>39596.000000</td>\n",
       "    </tr>\n",
       "    <tr>\n",
       "      <th>mean</th>\n",
       "      <td>1.494770e+14</td>\n",
       "      <td>5.657555e+06</td>\n",
       "      <td>36.647363</td>\n",
       "      <td>0.098975</td>\n",
       "      <td>0.197697</td>\n",
       "      <td>0.068138</td>\n",
       "      <td>0.040484</td>\n",
       "      <td>0.021972</td>\n",
       "      <td>0.306319</td>\n",
       "    </tr>\n",
       "    <tr>\n",
       "      <th>std</th>\n",
       "      <td>2.585544e+14</td>\n",
       "      <td>6.165724e+04</td>\n",
       "      <td>22.473500</td>\n",
       "      <td>0.298632</td>\n",
       "      <td>0.398267</td>\n",
       "      <td>0.251986</td>\n",
       "      <td>0.197094</td>\n",
       "      <td>0.158673</td>\n",
       "      <td>0.460970</td>\n",
       "    </tr>\n",
       "    <tr>\n",
       "      <th>min</th>\n",
       "      <td>9.377953e+04</td>\n",
       "      <td>5.030230e+06</td>\n",
       "      <td>0.000000</td>\n",
       "      <td>0.000000</td>\n",
       "      <td>0.000000</td>\n",
       "      <td>0.000000</td>\n",
       "      <td>0.000000</td>\n",
       "      <td>0.000000</td>\n",
       "      <td>0.000000</td>\n",
       "    </tr>\n",
       "    <tr>\n",
       "      <th>25%</th>\n",
       "      <td>4.261006e+12</td>\n",
       "      <td>5.631433e+06</td>\n",
       "      <td>18.000000</td>\n",
       "      <td>0.000000</td>\n",
       "      <td>0.000000</td>\n",
       "      <td>0.000000</td>\n",
       "      <td>0.000000</td>\n",
       "      <td>0.000000</td>\n",
       "      <td>0.000000</td>\n",
       "    </tr>\n",
       "    <tr>\n",
       "      <th>50%</th>\n",
       "      <td>3.155455e+13</td>\n",
       "      <td>5.664912e+06</td>\n",
       "      <td>37.000000</td>\n",
       "      <td>0.000000</td>\n",
       "      <td>0.000000</td>\n",
       "      <td>0.000000</td>\n",
       "      <td>0.000000</td>\n",
       "      <td>0.000000</td>\n",
       "      <td>0.000000</td>\n",
       "    </tr>\n",
       "    <tr>\n",
       "      <th>75%</th>\n",
       "      <td>9.455414e+13</td>\n",
       "      <td>5.699628e+06</td>\n",
       "      <td>54.000000</td>\n",
       "      <td>0.000000</td>\n",
       "      <td>0.000000</td>\n",
       "      <td>0.000000</td>\n",
       "      <td>0.000000</td>\n",
       "      <td>0.000000</td>\n",
       "      <td>1.000000</td>\n",
       "    </tr>\n",
       "    <tr>\n",
       "      <th>max</th>\n",
       "      <td>9.999465e+14</td>\n",
       "      <td>5.754966e+06</td>\n",
       "      <td>98.000000</td>\n",
       "      <td>1.000000</td>\n",
       "      <td>1.000000</td>\n",
       "      <td>1.000000</td>\n",
       "      <td>1.000000</td>\n",
       "      <td>3.000000</td>\n",
       "      <td>1.000000</td>\n",
       "    </tr>\n",
       "  </tbody>\n",
       "</table>\n",
       "</div>"
      ],
      "text/plain": [
       "          PatientId  AppointmentID           Age   Scholarship  Hipertension  \\\n",
       "count  3.959600e+04   3.959600e+04  39596.000000  39596.000000  39596.000000   \n",
       "mean   1.494770e+14   5.657555e+06     36.647363      0.098975      0.197697   \n",
       "std    2.585544e+14   6.165724e+04     22.473500      0.298632      0.398267   \n",
       "min    9.377953e+04   5.030230e+06      0.000000      0.000000      0.000000   \n",
       "25%    4.261006e+12   5.631433e+06     18.000000      0.000000      0.000000   \n",
       "50%    3.155455e+13   5.664912e+06     37.000000      0.000000      0.000000   \n",
       "75%    9.455414e+13   5.699628e+06     54.000000      0.000000      0.000000   \n",
       "max    9.999465e+14   5.754966e+06     98.000000      1.000000      1.000000   \n",
       "\n",
       "           Diabetes    Alcoholism       Handcap  SMS_received  \n",
       "count  39596.000000  39596.000000  39596.000000  39596.000000  \n",
       "mean       0.068138      0.040484      0.021972      0.306319  \n",
       "std        0.251986      0.197094      0.158673      0.460970  \n",
       "min        0.000000      0.000000      0.000000      0.000000  \n",
       "25%        0.000000      0.000000      0.000000      0.000000  \n",
       "50%        0.000000      0.000000      0.000000      0.000000  \n",
       "75%        0.000000      0.000000      0.000000      1.000000  \n",
       "max        1.000000      1.000000      3.000000      1.000000  "
      ]
     },
     "execution_count": 9,
     "metadata": {},
     "output_type": "execute_result"
    }
   ],
   "source": [
    "#used to give understanding of data distribution details in the dataset\n",
    "df.describe()"
   ]
  },
  {
   "cell_type": "markdown",
   "metadata": {},
   "source": [
    "This explains statistical distriution of each attribute among all patients as guide on how to unddertand the data as one interacts with it. There is a notable error on the age attribute that it has a negative value which is never ideal and need corrected."
   ]
  },
  {
   "cell_type": "code",
   "execution_count": 10,
   "metadata": {},
   "outputs": [
    {
     "data": {
      "text/plain": [
       "PatientId         0\n",
       "AppointmentID     0\n",
       "Gender            0\n",
       "ScheduledDay      0\n",
       "AppointmentDay    0\n",
       "Age               0\n",
       "Neighbourhood     0\n",
       "Scholarship       0\n",
       "Hipertension      0\n",
       "Diabetes          0\n",
       "Alcoholism        0\n",
       "Handcap           0\n",
       "SMS_received      0\n",
       "No_show           0\n",
       "dtype: int64"
      ]
     },
     "execution_count": 10,
     "metadata": {},
     "output_type": "execute_result"
    }
   ],
   "source": [
    "#Checking existence of null values in the dataset\n",
    "df.isnull().sum()\n"
   ]
  },
  {
   "cell_type": "markdown",
   "metadata": {},
   "source": [
    "Data had no null values in all the patients attributes indicating it is complete."
   ]
  },
  {
   "cell_type": "markdown",
   "metadata": {},
   "source": [
    "<a id='wrangling'></a>\n",
    "## Data Wrangling\n"
   ]
  },
  {
   "cell_type": "code",
   "execution_count": 11,
   "metadata": {},
   "outputs": [
    {
     "name": "stdout",
     "output_type": "stream",
     "text": [
      "<class 'pandas.core.frame.DataFrame'>\n",
      "RangeIndex: 39596 entries, 0 to 39595\n",
      "Data columns (total 14 columns):\n",
      " #   Column          Non-Null Count  Dtype  \n",
      "---  ------          --------------  -----  \n",
      " 0   PatientId       39596 non-null  float64\n",
      " 1   AppointmentID   39596 non-null  int64  \n",
      " 2   Gender          39596 non-null  object \n",
      " 3   ScheduledDay    39596 non-null  object \n",
      " 4   AppointmentDay  39596 non-null  object \n",
      " 5   Age             39596 non-null  float64\n",
      " 6   Neighbourhood   39596 non-null  object \n",
      " 7   Scholarship     39596 non-null  int64  \n",
      " 8   Hipertension    39596 non-null  int64  \n",
      " 9   Diabetes        39596 non-null  int64  \n",
      " 10  Alcoholism      39596 non-null  int64  \n",
      " 11  Handcap         39596 non-null  int64  \n",
      " 12  SMS_received    39596 non-null  int64  \n",
      " 13  No_show         39596 non-null  object \n",
      "dtypes: float64(2), int64(7), object(5)\n",
      "memory usage: 4.2+ MB\n"
     ]
    }
   ],
   "source": [
    "#rename the last column to avoid dash and replace with underscore.\n",
    "df=df.rename(columns = {'No-show' : 'No_show'})\n",
    "df.info()\n"
   ]
  },
  {
   "cell_type": "code",
   "execution_count": 13,
   "metadata": {},
   "outputs": [
    {
     "data": {
      "text/plain": [
       "0.0"
      ]
     },
     "execution_count": 13,
     "metadata": {},
     "output_type": "execute_result"
    }
   ],
   "source": [
    "# check existence of ambigous age entry since nobody can have a negative age value\n",
    "Agebelowzero =df.Age.min()\n",
    "Agebelowzero"
   ]
  },
  {
   "cell_type": "markdown",
   "metadata": {},
   "source": [
    "\n",
    "### Data Cleaning\n"
   ]
  },
  {
   "cell_type": "markdown",
   "metadata": {
    "collapsed": true
   },
   "source": [
    "Replaced all negative (-1) Ages entries out of range with mean  out of range since age cannot be negative"
   ]
  },
  {
   "cell_type": "code",
   "execution_count": 18,
   "metadata": {},
   "outputs": [],
   "source": [
    "# Replaced all negative (-1) Ages entries out of range with mean  out of range\n",
    "\n",
    "df[\"Age\"].replace({-1 : df[\"Age\"].mean()}, inplace=True)"
   ]
  },
  {
   "cell_type": "markdown",
   "metadata": {},
   "source": [
    "Converting ScheduledDay and AppointmentDay from string to date-time for the readability"
   ]
  },
  {
   "cell_type": "code",
   "execution_count": 19,
   "metadata": {},
   "outputs": [],
   "source": [
    "df['ScheduledDay']= df['ScheduledDay'].astype('datetime64[ns]')"
   ]
  },
  {
   "cell_type": "code",
   "execution_count": 20,
   "metadata": {},
   "outputs": [],
   "source": [
    "df['AppointmentDay']= df['AppointmentDay'].astype('datetime64[ns]')"
   ]
  },
  {
   "cell_type": "code",
   "execution_count": 46,
   "metadata": {},
   "outputs": [
    {
     "name": "stdout",
     "output_type": "stream",
     "text": [
      "<class 'pandas.core.frame.DataFrame'>\n",
      "RangeIndex: 39596 entries, 0 to 39595\n",
      "Data columns (total 14 columns):\n",
      " #   Column          Non-Null Count  Dtype  \n",
      "---  ------          --------------  -----  \n",
      " 0   PatientId       39596 non-null  float64\n",
      " 1   AppointmentID   39596 non-null  int64  \n",
      " 2   Gender          39596 non-null  object \n",
      " 3   ScheduledDay    39596 non-null  object \n",
      " 4   AppointmentDay  39596 non-null  object \n",
      " 5   Age             39596 non-null  float64\n",
      " 6   Neighbourhood   39596 non-null  object \n",
      " 7   Scholarship     39596 non-null  int64  \n",
      " 8   Hipertension    39596 non-null  int64  \n",
      " 9   Diabetes        39596 non-null  int64  \n",
      " 10  Alcoholism      39596 non-null  int64  \n",
      " 11  Handcap         39596 non-null  int64  \n",
      " 12  SMS_received    39596 non-null  int64  \n",
      " 13  No_show         39596 non-null  object \n",
      "dtypes: float64(2), int64(7), object(5)\n",
      "memory usage: 4.2+ MB\n"
     ]
    }
   ],
   "source": [
    "df.info()"
   ]
  },
  {
   "cell_type": "code",
   "execution_count": 42,
   "metadata": {},
   "outputs": [],
   "source": [
    "df.to_csv('noshowappointments.csv', index=False)"
   ]
  },
  {
   "cell_type": "markdown",
   "metadata": {},
   "source": [
    "<a id='eda'></a>\n",
    "## Exploratory Data Analysis\n",
    "\n",
    "\n",
    "\n",
    "\n",
    "\n",
    "\n",
    "### Research Question 1: What does age  affect honouring appointments?\n"
   ]
  },
  {
   "cell_type": "markdown",
   "metadata": {},
   "source": [
    "Grouping the patients in two groups of those who turned out for appointment(31457) and those did not turn up for the appointment."
   ]
  },
  {
   "cell_type": "code",
   "execution_count": 24,
   "metadata": {},
   "outputs": [
    {
     "name": "stdout",
     "output_type": "stream",
     "text": [
      "showedup 31457\n",
      "Nevershowedup 8139\n"
     ]
    }
   ],
   "source": [
    "#checking how many honoured appointment \n",
    "#noted: it says ‘No’ if the patient showed up to their appointment, and ‘Yes’ if they did not show up.\n",
    "\n",
    "showedup = df.No_show == 'No'\n",
    "print(\"showedup\", showedup.sum())\n",
    "Nevershowedup = df.No_show == 'Yes'\n",
    "print(\"Nevershowedup\", Nevershowedup.sum())"
   ]
  },
  {
   "cell_type": "code",
   "execution_count": 36,
   "metadata": {},
   "outputs": [
    {
     "data": {
      "text/plain": [
       "Text(0.5, 1.0, 'Age impact on showing up for Appointments')"
      ]
     },
     "execution_count": 36,
     "metadata": {},
     "output_type": "execute_result"
    },
    {
     "data": {
      "image/png": "[encoded data removed]",
      "text/plain": [
       "<Figure size 432x288 with 1 Axes>"
      ]
     },
     "metadata": {
      "needs_background": "light"
     },
     "output_type": "display_data"
    }
   ],
   "source": [
    "# Use this, and more code cells, to explore your data. Don't forget to add\n",
    "#   Markdown cells to document your observations and findings.\n",
    "# histogram showing relationship age to the number that honored appointment\n",
    "\n",
    "df.Age[showedup].hist(alpha=0.5, bins=20, label='showedup')\n",
    "df.Age[Nevershowedup].hist(alpha=0.5, bins=20, label='Nevershowedup',)\n",
    "plt.legend();\n",
    "plt.xlabel(\"Age\")\n",
    "plt.title('Age impact on showing up for Appointments')\n"
   ]
  },
  {
   "cell_type": "markdown",
   "metadata": {},
   "source": [
    "The youngest honor appointments more than teens while the age are few and most of them honor appointments. The observation is that these young ages who honor appointments the most seem to either have a parental guide because at their age in most cases are under parental care."
   ]
  },
  {
   "cell_type": "markdown",
   "metadata": {},
   "source": [
    "### Research Question 2: How does  gender and receiving SMS affect the turn out?"
   ]
  },
  {
   "cell_type": "code",
   "execution_count": 35,
   "metadata": {},
   "outputs": [
    {
     "name": "stdout",
     "output_type": "stream",
     "text": [
      "the total population 39596\n",
      "Total Females 25414\n",
      "showedup females 20099\n",
      "Never showedup females 5315\n",
      "Total Males 25414\n",
      "showedup males 11358\n",
      "Never showedup males 2824\n"
     ]
    },
    {
     "data": {
      "image/png": "[encoded data removed]",
      "text/plain": [
       "<Figure size 432x288 with 1 Axes>"
      ]
     },
     "metadata": {
      "needs_background": "light"
     },
     "output_type": "display_data"
    }
   ],
   "source": [
    "# histogram showing gender in relationship to the number that honored appointment\n",
    "print(\"the total population\",df.Gender.count())\n",
    "#female Distribution\n",
    "def all_females():\n",
    "    females = df.Gender == 'F'\n",
    "    return females\n",
    "\n",
    "print('Total Females',all_females().sum())\n",
    "show_females = df.Gender[showedup] == 'F'\n",
    "print('showedup females',show_females.sum())\n",
    "Never_show_females = df.Gender[Nevershowedup] == 'F'\n",
    "print('Never showedup females',Never_show_females.sum())\n",
    "\n",
    "#Males distribution\n",
    "def all_males():\n",
    "    males = df.Gender == 'F'\n",
    "    return males\n",
    "males = df.Gender == 'M'\n",
    "print('Total Males',all_males().sum())\n",
    "show_males = df.Gender[showedup] == 'M'\n",
    "print('showedup males',show_males.sum())\n",
    "Never_show_males = df.Gender[Nevershowedup] == 'M'\n",
    "print('Never showedup males',Never_show_males.sum())\n",
    "plt.ylabel(\" Population\")\n",
    "df.groupby(['Gender','SMS_received','No_show']).Gender.count().plot(kind= 'bar', title='Gender and SMS reminder impact showing for Appointments');"
   ]
  },
  {
   "cell_type": "markdown",
   "metadata": {},
   "source": [
    "From the graph above graph we can deduced that more females and males who did not received an sms reminder honored the appiointment than those received an sms reminder indiacting that an sms reminder has no impact in honoring appoint since most that received did not honor appointment.\n"
   ]
  },
  {
   "cell_type": "markdown",
   "metadata": {},
   "source": [
    "### Research Question 3: How does  gender and  Age affect honouring appointments  affect turn out?"
   ]
  },
  {
   "cell_type": "code",
   "execution_count": 32,
   "metadata": {
    "scrolled": true
   },
   "outputs": [
    {
     "data": {
      "text/plain": [
       "Gender  No_show\n",
       "F       No         39.041196\n",
       "        Yes        35.185701\n",
       "M       No         34.553090\n",
       "        Yes        30.783994\n",
       "Name: Age, dtype: float64"
      ]
     },
     "execution_count": 32,
     "metadata": {},
     "output_type": "execute_result"
    },
    {
     "data": {
      "image/png": "[encoded data removed]",
      "text/plain": [
       "<Figure size 432x288 with 1 Axes>"
      ]
     },
     "metadata": {
      "needs_background": "light"
     },
     "output_type": "display_data"
    }
   ],
   "source": [
    "\n",
    "plt.ylabel(\"Mean Age\")\n",
    "df.groupby(['Gender','No_show']).Age.mean().plot(kind= 'bar',title='Gender and Age impact showing for Appointments');\n",
    "df.groupby(['Gender','No_show']).mean().Age\n"
   ]
  },
  {
   "cell_type": "markdown",
   "metadata": {},
   "source": [
    "The aged females tend to honour appointments more than males though the dataset did not include more aged males unlike the females the mean seem to be abit higher. \n",
    "More females who are not honoring appointment seem to be elder than the males who honour and those who do not homour the appointment.\n"
   ]
  },
  {
   "cell_type": "markdown",
   "metadata": {},
   "source": [
    "\n",
    "\n",
    "\n",
    "## Assumptions\n",
    "Assumptions made is that the negative age value I imputed with mean won't have much impact in my data as a way of cleaning my dataset.\n",
    "\n",
    "\n"
   ]
  },
  {
   "cell_type": "markdown",
   "metadata": {},
   "source": [
    "## Limitations\n",
    "  1. The dataset age data is not well distributed among the two gender in that in terms of grouping the females in relation honouring appointments data seems to have different means thus it is not leading to absolute comparison between the two genders hence I needed additional data that can adjust the mean to a comparable vale.\n",
    "  2. The fact that sending a notification reminder to patients was not sufficient enough to ascertain that it did have impact since there is no additional information to validate the patient received the message and ignored the invite. I think the sms should have additional states of received,read,acknowledged so that it can have an impact on the follow why they ignored even the reminder.\n"
   ]
  },
  {
   "cell_type": "markdown",
   "metadata": {},
   "source": [
    "<a id='conclusions'></a>\n",
    "## Conclusions\n",
    "1. This is a clear indication that age in this dataset in comparison with gender cannot be used to determine the honoring of appointment since it is not well distributed accross the two genders for ease of comparison.\n",
    "2. Sending a reminder cannot be used to determine honoring of appointment.\n",
    "3. Youngster tend to honour appointment than the aged though from the dataset there is less aged scheduled appointment."
   ]
  },
  {
   "cell_type": "markdown",
   "metadata": {},
   "source": [
    "References: Github,www.stackoveflow.com,www.geekforgeeks.com,https://www.programiz.com,https://www.statology.org/"
   ]
  }
 ],
 "metadata": {
  "kernelspec": {
   "display_name": "Python 3 (ipykernel)",
   "language": "python",
   "name": "python3"
  },
  "language_info": {
   "codemirror_mode": {
    "name": "ipython",
    "version": 3
   },
   "file_extension": ".py",
   "mimetype": "text/x-python",
   "name": "python",
   "nbconvert_exporter": "python",
   "pygments_lexer": "ipython3",
   "version": "3.9.12"
  }
 },
 "nbformat": 4,
 "nbformat_minor": 2
}
